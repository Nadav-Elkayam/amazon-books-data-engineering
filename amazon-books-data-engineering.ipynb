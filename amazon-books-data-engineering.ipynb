{
 "cells": [
  {
   "cell_type": "code",
   "execution_count": 26,
   "id": "d1535376-2807-4bca-98d6-9e9519003015",
   "metadata": {},
   "outputs": [],
   "source": [
    "### in this task missing values *should be imputed* with the mean value of the column\n",
    "### impute missing values only in columns required for solutions"
   ]
  },
  {
   "cell_type": "code",
   "execution_count": 27,
   "id": "f8255ea1-d3e9-4fbd-90b1-02d0ff7b7f9e",
   "metadata": {
    "tags": []
   },
   "outputs": [],
   "source": [
    "import pandas as pd\n",
    "import matplotlib.pyplot as plt\n",
    "plt.rcParams.update({'font.size': 20, 'figure.figsize': (8, 4)})\n",
    "\n",
    "#%matplotlib inline\n",
    "#import matplotlib_inline\n",
    "#matplotlib_inline.backend_inline.set_matplotlib_formats('svg')\n",
    "\n",
    "import seaborn as sns\n",
    "sns.set()"
   ]
  },
  {
   "cell_type": "code",
   "execution_count": 28,
   "id": "02062230-22bd-45bd-99c6-bf8a79bfcc2d",
   "metadata": {},
   "outputs": [
    {
     "name": "stdout",
     "output_type": "stream",
     "text": [
      "<class 'pandas.core.frame.DataFrame'>\n",
      "RangeIndex: 946 entries, 0 to 945\n",
      "Data columns (total 9 columns):\n",
      " #   Column       Non-Null Count  Dtype  \n",
      "---  ------       --------------  -----  \n",
      " 0   title        946 non-null    object \n",
      " 1   author       824 non-null    object \n",
      " 2   price        944 non-null    float64\n",
      " 3   pages        934 non-null    float64\n",
      " 4   avg_reviews  823 non-null    float64\n",
      " 5   n_reviews    946 non-null    int64  \n",
      " 6   dimensions   914 non-null    object \n",
      " 7   weight       943 non-null    object \n",
      " 8   language     943 non-null    object \n",
      "dtypes: float64(3), int64(1), object(5)\n",
      "memory usage: 66.6+ KB\n"
     ]
    }
   ],
   "source": [
    "df = pd.read_csv(\"amazon_books_data.csv\")\n",
    "df.info()"
   ]
  },
  {
   "cell_type": "markdown",
   "id": "4c919712-dccb-4dbc-8e3d-baa0f3d0e4b2",
   "metadata": {},
   "source": [
    "#### Question 1"
   ]
  },
  {
   "cell_type": "code",
   "execution_count": 29,
   "id": "49c51667-303d-4ae5-a449-bc61d58f1b13",
   "metadata": {},
   "outputs": [
    {
     "data": {
      "text/html": [
       "<div>\n",
       "<style scoped>\n",
       "    .dataframe tbody tr th:only-of-type {\n",
       "        vertical-align: middle;\n",
       "    }\n",
       "\n",
       "    .dataframe tbody tr th {\n",
       "        vertical-align: top;\n",
       "    }\n",
       "\n",
       "    .dataframe thead th {\n",
       "        text-align: right;\n",
       "    }\n",
       "</style>\n",
       "<table border=\"1\" class=\"dataframe\">\n",
       "  <thead>\n",
       "    <tr style=\"text-align: right;\">\n",
       "      <th></th>\n",
       "      <th>column name</th>\n",
       "      <th>column type</th>\n",
       "    </tr>\n",
       "  </thead>\n",
       "  <tbody>\n",
       "    <tr>\n",
       "      <th>0</th>\n",
       "      <td>price</td>\n",
       "      <td>numerical-continuous</td>\n",
       "    </tr>\n",
       "    <tr>\n",
       "      <th>1</th>\n",
       "      <td>pages</td>\n",
       "      <td>numerical-discrete</td>\n",
       "    </tr>\n",
       "    <tr>\n",
       "      <th>2</th>\n",
       "      <td>avg_reviews</td>\n",
       "      <td>numerical-continuous</td>\n",
       "    </tr>\n",
       "    <tr>\n",
       "      <th>3</th>\n",
       "      <td>n_reviews</td>\n",
       "      <td>numerical-discrete</td>\n",
       "    </tr>\n",
       "    <tr>\n",
       "      <th>4</th>\n",
       "      <td>language</td>\n",
       "      <td>categorical-nominal</td>\n",
       "    </tr>\n",
       "  </tbody>\n",
       "</table>\n",
       "</div>"
      ],
      "text/plain": [
       "   column name           column type\n",
       "0        price  numerical-continuous\n",
       "1        pages    numerical-discrete\n",
       "2  avg_reviews  numerical-continuous\n",
       "3    n_reviews    numerical-discrete\n",
       "4     language   categorical-nominal"
      ]
     },
     "execution_count": 29,
     "metadata": {},
     "output_type": "execute_result"
    }
   ],
   "source": [
    "### decide what data type each column is: numerical-discrete, numerical-continuous, categorical-nominal, categorical-ordinal\n",
    "### consider only [price, pages, avg_reviews, n_reviews, language] for this analysis\n",
    "### no need to add explanations, just the final answer\n",
    "\n",
    "# Define the data type for specific columns\n",
    "column_types = {\"price\": \"numerical-continuous\",\n",
    "                \"pages\": \"numerical-discrete\",\n",
    "                \"avg_reviews\": \"numerical-continuous\",\n",
    "                \"n_reviews\": \"numerical-discrete\",\n",
    "                \"language\": \"categorical-nominal\"}\n",
    "\n",
    "# Create a DataFrame to display column types\n",
    "df_column_types = pd.DataFrame({\n",
    "    'column name': column_types.keys(),\n",
    "    'column type': column_types.values()\n",
    "})\n",
    "\n",
    "pd.DataFrame(df_column_types)"
   ]
  },
  {
   "cell_type": "markdown",
   "id": "165920b1-0135-4593-a162-8d4eba529990",
   "metadata": {},
   "source": [
    "#### Question 2"
   ]
  },
  {
   "cell_type": "code",
   "execution_count": 30,
   "id": "347ba3ec-c639-4589-bbd7-3f3449d31829",
   "metadata": {},
   "outputs": [
    {
     "data": {
      "image/png": "[encoded data removed]",
      "text/plain": [
       "<Figure size 800x400 with 1 Axes>"
      ]
     },
     "metadata": {},
     "output_type": "display_data"
    },
    {
     "data": {
      "text/html": [
       "<div>\n",
       "<style scoped>\n",
       "    .dataframe tbody tr th:only-of-type {\n",
       "        vertical-align: middle;\n",
       "    }\n",
       "\n",
       "    .dataframe tbody tr th {\n",
       "        vertical-align: top;\n",
       "    }\n",
       "\n",
       "    .dataframe thead th {\n",
       "        text-align: right;\n",
       "    }\n",
       "</style>\n",
       "<table border=\"1\" class=\"dataframe\">\n",
       "  <thead>\n",
       "    <tr style=\"text-align: right;\">\n",
       "      <th></th>\n",
       "      <th>0</th>\n",
       "      <th>1</th>\n",
       "    </tr>\n",
       "  </thead>\n",
       "  <tbody>\n",
       "    <tr>\n",
       "      <th>0</th>\n",
       "      <td>mean</td>\n",
       "      <td>419.356531</td>\n",
       "    </tr>\n",
       "    <tr>\n",
       "      <th>1</th>\n",
       "      <td>median</td>\n",
       "      <td>384.0</td>\n",
       "    </tr>\n",
       "    <tr>\n",
       "      <th>2</th>\n",
       "      <td>skewness</td>\n",
       "      <td>positive</td>\n",
       "    </tr>\n",
       "  </tbody>\n",
       "</table>\n",
       "</div>"
      ],
      "text/plain": [
       "          0           1\n",
       "0      mean  419.356531\n",
       "1    median       384.0\n",
       "2  skewness    positive"
      ]
     },
     "execution_count": 30,
     "metadata": {},
     "output_type": "execute_result"
    }
   ],
   "source": [
    "### plot a histogram of books' number of pages using 50 bins\n",
    "### decide if the distribution is symmetric, skewed positive or skewed negative\n",
    "### use both the histogram and required computations for this decision\n",
    "\n",
    "# Plot a histogram of the number of pages in books\n",
    "plt.hist(df['pages'], bins=50)\n",
    "plt.xlabel('Number of Pages')\n",
    "plt.ylabel('Frequency')\n",
    "plt.title('Histogram of Number of Pages in Books')\n",
    "plt.show()\n",
    "\n",
    "# Calculate mean, median, and determine skewness\n",
    "mean_pages = df['pages'].mean()\n",
    "median_pages = df['pages'].median()\n",
    "if(mean_pages > median_pages):\n",
    "    skewness = 'positive'\n",
    "elif(mean_pages < median_pages):\n",
    "    skewness = 'negative'\n",
    "else:\n",
    "    skewness = 'symmetric'\n",
    "\n",
    "q2_result = [('mean', mean_pages), ('median', median_pages), ('skewness', skewness)]\n",
    "pd.DataFrame(q2_result)"
   ]
  },
  {
   "cell_type": "markdown",
   "id": "3dc58e4a-c25d-4267-b319-93891138bd5f",
   "metadata": {},
   "source": [
    "#### Question 3"
   ]
  },
  {
   "cell_type": "code",
   "execution_count": 31,
   "id": "d56c2046-fdd2-44e8-bd7b-0f6c4e191833",
   "metadata": {},
   "outputs": [
    {
     "data": {
      "image/png": "[encoded data removed]",
      "text/plain": [
       "<Figure size 800x400 with 1 Axes>"
      ]
     },
     "metadata": {},
     "output_type": "display_data"
    },
    {
     "data": {
      "text/html": [
       "<div>\n",
       "<style scoped>\n",
       "    .dataframe tbody tr th:only-of-type {\n",
       "        vertical-align: middle;\n",
       "    }\n",
       "\n",
       "    .dataframe tbody tr th {\n",
       "        vertical-align: top;\n",
       "    }\n",
       "\n",
       "    .dataframe thead th {\n",
       "        text-align: right;\n",
       "    }\n",
       "</style>\n",
       "<table border=\"1\" class=\"dataframe\">\n",
       "  <thead>\n",
       "    <tr style=\"text-align: right;\">\n",
       "      <th></th>\n",
       "      <th>0</th>\n",
       "      <th>1</th>\n",
       "    </tr>\n",
       "  </thead>\n",
       "  <tbody>\n",
       "    <tr>\n",
       "      <th>0</th>\n",
       "      <td>mean (ounces)</td>\n",
       "      <td>27.38</td>\n",
       "    </tr>\n",
       "    <tr>\n",
       "      <th>1</th>\n",
       "      <td>median (ounces)</td>\n",
       "      <td>23.52</td>\n",
       "    </tr>\n",
       "    <tr>\n",
       "      <th>2</th>\n",
       "      <td>skewness</td>\n",
       "      <td>positive</td>\n",
       "    </tr>\n",
       "  </tbody>\n",
       "</table>\n",
       "</div>"
      ],
      "text/plain": [
       "                 0         1\n",
       "0    mean (ounces)     27.38\n",
       "1  median (ounces)     23.52\n",
       "2         skewness  positive"
      ]
     },
     "execution_count": 31,
     "metadata": {},
     "output_type": "execute_result"
    }
   ],
   "source": [
    "### inspect the 'weight' column carefully\n",
    "### plot a histogram of books' weight using 50 bins\n",
    "### decide if the distribution is symmetric, skewed positive or skewed negative\n",
    "### use both the histogram and required computations for this decision\n",
    "\n",
    "# Inspect the 'weight' column and determine if it contains weights in pounds or ounces\n",
    "df['is in pounds'] = df['weight'].str.contains(' pounds', na=False)\n",
    "\n",
    "# Separate books with weights in pounds and ounces\n",
    "books_in_pounds = df[df['is in pounds'] == True].copy()\n",
    "books_in_ounces = df[df['is in pounds'] == False].copy()\n",
    "\n",
    "# Initialize a new column for weight in ounces\n",
    "df['weight in ounces'] = pd.NA\n",
    "\n",
    "# Convert weights in pounds to ounces\n",
    "books_in_pounds.loc[df['is in pounds'] == True, 'weight in ounces'] = (\n",
    "        df.loc[df['is in pounds'] == True, 'weight'].str.replace(' pounds', '').astype(float) * 16)\n",
    "books_in_pounds['weight in ounces'] = (\n",
    "    books_in_pounds['weight in ounces'].fillna(books_in_pounds['weight in ounces'].mean()))\n",
    "\n",
    "# Convert weights in ounces\n",
    "books_in_ounces.loc[df['is in pounds'] == False, 'weight in ounces'] = (\n",
    "    df.loc[df['is in pounds'] == False, 'weight'].str.replace(' ounces', '').astype(float))\n",
    "books_in_ounces['weight in ounces'] = (\n",
    "    books_in_ounces['weight in ounces'].fillna(books_in_ounces['weight in ounces'].mean()))\n",
    "\n",
    "# Combine the results back into the main DataFrame\n",
    "df['weight in ounces'] = pd.concat([books_in_pounds['weight in ounces'], books_in_ounces['weight in ounces']])\n",
    "pd.DataFrame(df)\n",
    "\n",
    "# Plot a histogram of book weights\n",
    "plt.hist(df['weight in ounces'], bins=50, color='blue', alpha=0.7, edgecolor='black')\n",
    "plt.xlabel('weight in ounces')\n",
    "plt.ylabel('Frequency')\n",
    "plt.title('Histogram of Books Weight')\n",
    "plt.show()\n",
    "\n",
    "# Calculate mean, median, and determine skewness for weights\n",
    "mean_pages = df['weight in ounces'].mean().round(2)\n",
    "median_pages = df['weight in ounces'].median()\n",
    "if(mean_pages > median_pages):\n",
    "    skewness = 'positive'\n",
    "elif(mean_pages < median_pages):\n",
    "    skewness = 'negative'\n",
    "else:\n",
    "    skewness = 'symmetric'\n",
    "\n",
    "q3_result = [('mean (ounces)', mean_pages), ('median (ounces)', median_pages), ('skewness', skewness)]\n",
    "pd.DataFrame(q3_result)"
   ]
  },
  {
   "cell_type": "markdown",
   "id": "756c9477-1a20-4962-9289-3dc593dd4ca5",
   "metadata": {},
   "source": [
    "#### Question 4"
   ]
  },
  {
   "cell_type": "code",
   "execution_count": 32,
   "id": "8cb0cdb7-8b3d-4a84-b30c-e59df8797135",
   "metadata": {},
   "outputs": [
    {
     "data": {
      "text/html": [
       "<div>\n",
       "<style scoped>\n",
       "    .dataframe tbody tr th:only-of-type {\n",
       "        vertical-align: middle;\n",
       "    }\n",
       "\n",
       "    .dataframe tbody tr th {\n",
       "        vertical-align: top;\n",
       "    }\n",
       "\n",
       "    .dataframe thead th {\n",
       "        text-align: right;\n",
       "    }\n",
       "</style>\n",
       "<table border=\"1\" class=\"dataframe\">\n",
       "  <thead>\n",
       "    <tr style=\"text-align: right;\">\n",
       "      <th></th>\n",
       "      <th>0</th>\n",
       "      <th>1</th>\n",
       "    </tr>\n",
       "  </thead>\n",
       "  <tbody>\n",
       "    <tr>\n",
       "      <th>0</th>\n",
       "      <td>pearson correlation between books volume and p...</td>\n",
       "      <td>0.41851</td>\n",
       "    </tr>\n",
       "  </tbody>\n",
       "</table>\n",
       "</div>"
      ],
      "text/plain": [
       "                                                   0        1\n",
       "0  pearson correlation between books volume and p...  0.41851"
      ]
     },
     "execution_count": 32,
     "metadata": {},
     "output_type": "execute_result"
    }
   ],
   "source": [
    "### compute Pearson's correlation between a book's volume (inferred by its dimensions) and price in the data\n",
    "### (you can use the built-in Series.corr() function for that purpose)\n",
    "\n",
    "# Compute Pearson's correlation between book volume and price\n",
    "book_dimensions = df['dimensions'].str.replace(' inches', '').str.split(' x ', expand=True).astype(float)\n",
    "df['volume'] = book_dimensions[0] * book_dimensions[1] * book_dimensions[2]\n",
    "df['volume'] = df['volume'].fillna(df['volume'].mean())\n",
    "df['price'] = df['price'].fillna(df['price'].mean())\n",
    "q4_result = [('pearson correlation between books volume and price', df['volume'].corr(df['price'])),]\n",
    "\n",
    "pd.DataFrame(q4_result)\n",
    "\n",
    "\n"
   ]
  },
  {
   "cell_type": "markdown",
   "id": "1f59426d-26d0-4110-bdc1-fafe3157edb7",
   "metadata": {},
   "source": [
    "#### Question 5"
   ]
  },
  {
   "cell_type": "code",
   "execution_count": 33,
   "id": "9bd71993-a837-4a79-82c4-06bc67ac2c38",
   "metadata": {},
   "outputs": [
    {
     "data": {
      "image/png": "[encoded data removed]",
      "text/plain": [
       "<Figure size 800x400 with 1 Axes>"
      ]
     },
     "metadata": {},
     "output_type": "display_data"
    }
   ],
   "source": [
    "### show a scatter plot of a book's volume (inferred by its dimensions) and price\n",
    "### do the results fit the score you got in the previous cell? (no need to print answer to this question)\n",
    "\n",
    "# Plot a scatter plot of book volume and price\n",
    "sns.scatterplot(x=\"volume\", y=\"price\", data=df, hue=\"price\", palette='viridis', legend=False)\n",
    "plt.title('scatter plot of a books volume and price')\n",
    "plt.show()\n"
   ]
  },
  {
   "cell_type": "markdown",
   "id": "fea8fab2-2945-43df-b35d-9853c1afb669",
   "metadata": {},
   "source": [
    "#### Question 6"
   ]
  },
  {
   "cell_type": "code",
   "execution_count": 34,
   "id": "0d891df9-7692-4952-a2b9-45c91038ad20",
   "metadata": {},
   "outputs": [
    {
     "data": {
      "text/html": [
       "<div>\n",
       "<style scoped>\n",
       "    .dataframe tbody tr th:only-of-type {\n",
       "        vertical-align: middle;\n",
       "    }\n",
       "\n",
       "    .dataframe tbody tr th {\n",
       "        vertical-align: top;\n",
       "    }\n",
       "\n",
       "    .dataframe thead th {\n",
       "        text-align: right;\n",
       "    }\n",
       "</style>\n",
       "<table border=\"1\" class=\"dataframe\">\n",
       "  <thead>\n",
       "    <tr style=\"text-align: right;\">\n",
       "      <th></th>\n",
       "      <th>category</th>\n",
       "      <th>number of books</th>\n",
       "    </tr>\n",
       "  </thead>\n",
       "  <tbody>\n",
       "    <tr>\n",
       "      <th>0</th>\n",
       "      <td>data science</td>\n",
       "      <td>111</td>\n",
       "    </tr>\n",
       "    <tr>\n",
       "      <th>1</th>\n",
       "      <td>data analytics</td>\n",
       "      <td>28</td>\n",
       "    </tr>\n",
       "    <tr>\n",
       "      <th>2</th>\n",
       "      <td>data engineering</td>\n",
       "      <td>7</td>\n",
       "    </tr>\n",
       "    <tr>\n",
       "      <th>3</th>\n",
       "      <td>machine learning</td>\n",
       "      <td>179</td>\n",
       "    </tr>\n",
       "    <tr>\n",
       "      <th>4</th>\n",
       "      <td>statistics</td>\n",
       "      <td>128</td>\n",
       "    </tr>\n",
       "    <tr>\n",
       "      <th>5</th>\n",
       "      <td>deep learning</td>\n",
       "      <td>138</td>\n",
       "    </tr>\n",
       "    <tr>\n",
       "      <th>6</th>\n",
       "      <td>natural language processing</td>\n",
       "      <td>13</td>\n",
       "    </tr>\n",
       "    <tr>\n",
       "      <th>7</th>\n",
       "      <td>total</td>\n",
       "      <td>604</td>\n",
       "    </tr>\n",
       "  </tbody>\n",
       "</table>\n",
       "</div>"
      ],
      "text/plain": [
       "                      category  number of books\n",
       "0                 data science              111\n",
       "1               data analytics               28\n",
       "2             data engineering                7\n",
       "3             machine learning              179\n",
       "4                   statistics              128\n",
       "5                deep learning              138\n",
       "6  natural language processing               13\n",
       "7                        total              604"
      ]
     },
     "execution_count": 34,
     "metadata": {},
     "output_type": "execute_result"
    }
   ],
   "source": [
    "### inspect book titles carefully: they can be roughly split by keyphrases:\n",
    "### ['data science', 'data analytics', 'data engineering', 'machine learning', 'statistics', \n",
    "### 'deep learning', 'natural language processing']\n",
    "\n",
    "### a book belongs to one of the above categories if its name contains the corresponding keyphrase\n",
    "### display the number of books that fall into each category and their total, in the same table\n",
    "### some books may not belong to any of the listed above categories\n",
    "### category match should be case insensitive\n",
    "\n",
    "# Categorize books based on keyphrases in their titles\n",
    "title_category = {\n",
    "    'data science': df['title'].str.contains('data science', case=False).sum(),\n",
    "    'data analytics': df['title'].str.contains('data analytics', case=False).sum(),\n",
    "    'data engineering': df['title'].str.contains('data engineering', case=False).sum(),\n",
    "    'machine learning': df['title'].str.contains('machine learning', case=False).sum(),\n",
    "    'statistics': df['title'].str.contains('statistics', case=False).sum(),\n",
    "    'deep learning': df['title'].str.contains('deep learning', case=False).sum(),\n",
    "    'natural language processing': df['title'].str.contains('natural language processing', case=False).sum(),\n",
    "}\n",
    "\n",
    "# Add total count of books in all categories\n",
    "title_category['total'] = sum(title_category.values())\n",
    "\n",
    "q5_result = pd.DataFrame(list(title_category.items()), columns=['category', 'number of books'])\n",
    "pd.DataFrame(q5_result)"
   ]
  },
  {
   "cell_type": "markdown",
   "id": "0c9f0ced-0fec-4ffa-a490-81dc78899680",
   "metadata": {},
   "source": [
    "#### Question 7"
   ]
  },
  {
   "cell_type": "code",
   "execution_count": 35,
   "id": "403786ac-bcad-4b79-af8c-37e2885deb78",
   "metadata": {},
   "outputs": [
    {
     "data": {
      "text/html": [
       "<div>\n",
       "<style scoped>\n",
       "    .dataframe tbody tr th:only-of-type {\n",
       "        vertical-align: middle;\n",
       "    }\n",
       "\n",
       "    .dataframe tbody tr th {\n",
       "        vertical-align: top;\n",
       "    }\n",
       "\n",
       "    .dataframe thead th {\n",
       "        text-align: right;\n",
       "    }\n",
       "</style>\n",
       "<table border=\"1\" class=\"dataframe\">\n",
       "  <thead>\n",
       "    <tr style=\"text-align: right;\">\n",
       "      <th></th>\n",
       "      <th>category</th>\n",
       "      <th>number of books</th>\n",
       "    </tr>\n",
       "  </thead>\n",
       "  <tbody>\n",
       "    <tr>\n",
       "      <th>1</th>\n",
       "      <td>machine learning</td>\n",
       "      <td>179</td>\n",
       "    </tr>\n",
       "    <tr>\n",
       "      <th>2</th>\n",
       "      <td>deep learning</td>\n",
       "      <td>138</td>\n",
       "    </tr>\n",
       "    <tr>\n",
       "      <th>3</th>\n",
       "      <td>statistics</td>\n",
       "      <td>128</td>\n",
       "    </tr>\n",
       "    <tr>\n",
       "      <th>4</th>\n",
       "      <td>data science</td>\n",
       "      <td>111</td>\n",
       "    </tr>\n",
       "    <tr>\n",
       "      <th>5</th>\n",
       "      <td>data analytics</td>\n",
       "      <td>28</td>\n",
       "    </tr>\n",
       "    <tr>\n",
       "      <th>6</th>\n",
       "      <td>natural language processing</td>\n",
       "      <td>13</td>\n",
       "    </tr>\n",
       "    <tr>\n",
       "      <th>7</th>\n",
       "      <td>data engineering</td>\n",
       "      <td>7</td>\n",
       "    </tr>\n",
       "  </tbody>\n",
       "</table>\n",
       "</div>"
      ],
      "text/plain": [
       "                      category  number of books\n",
       "1             machine learning              179\n",
       "2                deep learning              138\n",
       "3                   statistics              128\n",
       "4                 data science              111\n",
       "5               data analytics               28\n",
       "6  natural language processing               13\n",
       "7             data engineering                7"
      ]
     },
     "execution_count": 35,
     "metadata": {},
     "output_type": "execute_result"
    }
   ],
   "source": [
    "### display the same result where the dataframe is sorted by the number of books, descending\n",
    "### no need to display the total amount in this result - drop it\n",
    "\n",
    "# Sort categories by the number of books in descending order\n",
    "df_categories = q5_result.sort_values(by=['number of books'], ascending=False).reset_index(drop=True)\n",
    "df_categories = df_categories.drop(df_categories[df_categories['category'] == 'total'].index)\n",
    "pd.DataFrame(df_categories)"
   ]
  },
  {
   "cell_type": "markdown",
   "id": "877ac449-b9cd-425e-873f-74e93dcfda45",
   "metadata": {},
   "source": [
    "#### Question 8"
   ]
  },
  {
   "cell_type": "code",
   "execution_count": 36,
   "id": "f9c6e631-a9de-49e9-95e7-c919bf789c90",
   "metadata": {},
   "outputs": [
    {
     "data": {
      "text/html": [
       "<div>\n",
       "<style scoped>\n",
       "    .dataframe tbody tr th:only-of-type {\n",
       "        vertical-align: middle;\n",
       "    }\n",
       "\n",
       "    .dataframe tbody tr th {\n",
       "        vertical-align: top;\n",
       "    }\n",
       "\n",
       "    .dataframe thead th {\n",
       "        text-align: right;\n",
       "    }\n",
       "</style>\n",
       "<table border=\"1\" class=\"dataframe\">\n",
       "  <thead>\n",
       "    <tr style=\"text-align: right;\">\n",
       "      <th></th>\n",
       "      <th>description</th>\n",
       "      <th>value</th>\n",
       "    </tr>\n",
       "  </thead>\n",
       "  <tbody>\n",
       "    <tr>\n",
       "      <th>0</th>\n",
       "      <td>portion according to z table</td>\n",
       "      <td>54.67%</td>\n",
       "    </tr>\n",
       "    <tr>\n",
       "      <th>1</th>\n",
       "      <td>portion according to empirical calculation</td>\n",
       "      <td>54.59%</td>\n",
       "    </tr>\n",
       "  </tbody>\n",
       "</table>\n",
       "</div>"
      ],
      "text/plain": [
       "                                  description   value\n",
       "0                portion according to z table  54.67%\n",
       "1  portion according to empirical calculation  54.59%"
      ]
     },
     "execution_count": 36,
     "metadata": {},
     "output_type": "execute_result"
    }
   ],
   "source": [
    "import numpy as np\n",
    "from statistics import NormalDist\n",
    "\n",
    "### sample 10000 values from N~(50, 10)\n",
    "### for this pirpose use https://numpy.org/doc/stable/reference/random/generated/numpy.random.normal.html\n",
    "\n",
    "# Sample 10000 values from a normal distribution N~(50, 10)\n",
    "sample = np.random.normal(50, 10, 10000)\n",
    "left, right = 42.5, 57.5\n",
    "\n",
    "### what portion of the distribution is found in the range (42.5, 57.5)? -- calculate using z table\n",
    "### (recall the NormalDist().cdf() function we used at the lecture)\n",
    "\n",
    "# Calculate the portion of the distribution in the range (42.5, 57.5) using z-table\n",
    "z_left = (left - 50) / 10\n",
    "z_right = (right - 50) / 10\n",
    "q8_result = pd.DataFrame([('portion according to z table',\n",
    "    str(round(((NormalDist().cdf(z_right) - NormalDist().cdf(z_left)) * 100), 2)) + \"%\")],\n",
    "    columns=['description', 'value'])\n",
    "\n",
    "\n",
    "### what portion of the distribution is found in the range (42.5, 57.5)? -- compute empirically using the sampled values\n",
    "### report both values (calculated and empirical)\n",
    "\n",
    "# Calculate the portion empirically using the sampled values\n",
    "empirical_portion = str(round((np.sum((sample > left) & (sample < right)) / len(sample)) * 100, 2)) + \"%\"\n",
    "q8_result.loc[len(q8_result)] = ['portion according to empirical calculation', empirical_portion]\n",
    "\n",
    "pd.DataFrame(q8_result)\n",
    "\n",
    "\n",
    "\n",
    "\n",
    "\n"
   ]
  },
  {
   "cell_type": "markdown",
   "id": "d58f2b66-dc90-4c54-9499-66c46e3a192f",
   "metadata": {},
   "source": [
    "#### Question 9"
   ]
  },
  {
   "cell_type": "code",
   "execution_count": 37,
   "id": "1ca084c9-3a03-4219-9530-8bc6437a7a70",
   "metadata": {},
   "outputs": [
    {
     "data": {
      "text/html": [
       "<div>\n",
       "<style scoped>\n",
       "    .dataframe tbody tr th:only-of-type {\n",
       "        vertical-align: middle;\n",
       "    }\n",
       "\n",
       "    .dataframe tbody tr th {\n",
       "        vertical-align: top;\n",
       "    }\n",
       "\n",
       "    .dataframe thead th {\n",
       "        text-align: right;\n",
       "    }\n",
       "</style>\n",
       "<table border=\"1\" class=\"dataframe\">\n",
       "  <thead>\n",
       "    <tr style=\"text-align: right;\">\n",
       "      <th></th>\n",
       "      <th>boundary</th>\n",
       "      <th>value</th>\n",
       "    </tr>\n",
       "  </thead>\n",
       "  <tbody>\n",
       "    <tr>\n",
       "      <th>0</th>\n",
       "      <td>left boundary</td>\n",
       "      <td>50.580522</td>\n",
       "    </tr>\n",
       "    <tr>\n",
       "      <th>1</th>\n",
       "      <td>right boundary</td>\n",
       "      <td>53.626533</td>\n",
       "    </tr>\n",
       "  </tbody>\n",
       "</table>\n",
       "</div>"
      ],
      "text/plain": [
       "         boundary      value\n",
       "0   left boundary  50.580522\n",
       "1  right boundary  53.626533"
      ]
     },
     "execution_count": 37,
     "metadata": {},
     "output_type": "execute_result"
    }
   ],
   "source": [
    "### compute confidence interval of 90% for the true population mean of a book price on Amazon\n",
    "### report left and right boundaries\n",
    "\n",
    "# Compute the 90% confidence interval for the true population mean of book prices\n",
    "mean, std, n = df['price'].mean(), df['price'].std(), len(df)\n",
    "z = NormalDist().inv_cdf(0.9)\n",
    "left, right = mean - z * (std / np.sqrt(n)), mean + z * (std / np.sqrt(n))\n",
    "q9_result = pd.DataFrame([('left boundary', left), ('right boundary', right)], columns=['boundary', 'value'])\n",
    "pd.DataFrame(q9_result)"
   ]
  },
  {
   "cell_type": "markdown",
   "id": "5a077478-b75e-4592-ae78-745678fa0820",
   "metadata": {},
   "source": [
    "#### Question 10"
   ]
  },
  {
   "cell_type": "code",
   "execution_count": 38,
   "id": "5aa994a1-d98f-4b12-aabf-9af310b49523",
   "metadata": {},
   "outputs": [
    {
     "data": {
      "text/html": [
       "<div>\n",
       "<style scoped>\n",
       "    .dataframe tbody tr th:only-of-type {\n",
       "        vertical-align: middle;\n",
       "    }\n",
       "\n",
       "    .dataframe tbody tr th {\n",
       "        vertical-align: top;\n",
       "    }\n",
       "\n",
       "    .dataframe thead th {\n",
       "        text-align: right;\n",
       "    }\n",
       "</style>\n",
       "<table border=\"1\" class=\"dataframe\">\n",
       "  <thead>\n",
       "    <tr style=\"text-align: right;\">\n",
       "      <th></th>\n",
       "      <th>boundary</th>\n",
       "      <th>value</th>\n",
       "    </tr>\n",
       "  </thead>\n",
       "  <tbody>\n",
       "    <tr>\n",
       "      <th>0</th>\n",
       "      <td>left boundary</td>\n",
       "      <td>50.871822</td>\n",
       "    </tr>\n",
       "    <tr>\n",
       "      <th>1</th>\n",
       "      <td>right boundary</td>\n",
       "      <td>53.335233</td>\n",
       "    </tr>\n",
       "    <tr>\n",
       "      <th>2</th>\n",
       "      <td>answer</td>\n",
       "      <td>yes</td>\n",
       "    </tr>\n",
       "  </tbody>\n",
       "</table>\n",
       "</div>"
      ],
      "text/plain": [
       "         boundary      value\n",
       "0   left boundary  50.871822\n",
       "1  right boundary  53.335233\n",
       "2          answer        yes"
      ]
     },
     "execution_count": 38,
     "metadata": {},
     "output_type": "execute_result"
    }
   ],
   "source": [
    "### can one say with 85% confidence that the true population mean of a book price resides within the [49.0, 54.0] interval?\n",
    "### show your computations, and print your answer: yes or no\n",
    "\n",
    "# Check if the true population mean of book prices resides within [49.0, 54.0] with 85% confidence\n",
    "mean, std, n = df['price'].mean(), df['price'].std(), len(df)\n",
    "z = NormalDist().inv_cdf(0.85)\n",
    "left, right = mean - z * (std / np.sqrt(n)), mean + z * (std / np.sqrt(n))\n",
    "answer = 'yes' if (left >= 49.0 and right <= 54.0) else 'no'\n",
    "q10_result = pd.DataFrame([('left boundary', left), ('right boundary', right), ('answer', answer)], columns=['boundary', 'value'])\n",
    "pd.DataFrame(q10_result)"
   ]
  },
  {
   "cell_type": "code",
   "execution_count": null,
   "id": "636a0b93-4aa1-4a49-a7b1-2ab9f58a124f",
   "metadata": {},
   "outputs": [],
   "source": []
  }
 ],
 "metadata": {
  "kernelspec": {
   "display_name": "base",
   "language": "python",
   "name": "python3"
  },
  "language_info": {
   "codemirror_mode": {
    "name": "ipython",
    "version": 3
   },
   "file_extension": ".py",
   "mimetype": "text/x-python",
   "name": "python",
   "nbconvert_exporter": "python",
   "pygments_lexer": "ipython3",
   "version": "3.11.7"
  }
 },
 "nbformat": 4,
 "nbformat_minor": 5
}
